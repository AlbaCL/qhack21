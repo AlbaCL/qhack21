{
 "cells": [
  {
   "cell_type": "markdown",
   "metadata": {},
   "source": [
    "# Fitting functions with a quantum circuit\n",
    "___________________________________\n",
    "\n",
    "_This notebook is part of the Q-Hack 2021 presentation (link to the presentation will be added soon)._\n",
    "\n",
    "In this notebook I will present simple circuits to encode the data into a quantum circuit by means of the angles in the rotational gates. With that, we can check if the quantum circuit can approximate a given function.\n",
    "The explicit circuits presented are for only one qubit, but it's generalization to multiple-qubits follow.\n",
    "\n",
    "This notebook is based on the references:\n",
    "\n",
    "- _One qubit as a Universal Approximant_, A. Pérez-Salinas, D. López-Núñez, A. García-Sáez, P. Forn-Díaz, J. I. Latorre, [arXiv:2102.04032 [quant-ph]](https://arxiv.org/abs/2102.04032) (2021).\n",
    "- _The effect of data encoding on the expressive power of variational quantum machine learning models_, M. Schuld, R. Sweke, J. J. Meyer, [arXiv:2008.08605 [quant-ph]](https://arxiv.org/abs/2008.08605) (2020).\n",
    "- _Data re-uploading for a universal quantum classifier_, A. Pérez-Salinas, A. Cervera-Lierta, E. Gil-Fuster, J. I. Latorre, [Quantum 4, 226 (2020)](https://quantum-journal.org/papers/q-2020-02-06-226/).\n",
    "\n",
    "You will need to install [Tequila](https://github.com/aspuru-guzik-group/tequila) package to run it."
   ]
  },
  {
   "cell_type": "code",
   "execution_count": 48,
   "metadata": {},
   "outputs": [],
   "source": [
    "import tequila as tq\n",
    "import numpy as np\n",
    "import matplotlib.pyplot as plt\n",
    "from numpy import random"
   ]
  },
  {
   "cell_type": "markdown",
   "metadata": {},
   "source": [
    "## Quantum Circuit\n",
    "\n",
    "We will encode the data into the rotational gates of a quantum circuit.\n",
    "As an example, for one qubit, we select the following encoding:\n",
    "$$ U\\left(\\vec{\\theta},x\\right) = R_{y}\\left(\\theta^{(1)}\\right)R_{z}\\left(\\theta^{(2)}x + \\theta^{(3)}\\right), $$\n",
    "where $x$ is a given data point (in this case, we consider 1D data), $\\vec{\\theta}=\\left(\\theta^{(1)}, \\theta^{(2)}, \\theta^{(3)}\\right)$ and $R_{k}\\left(\\theta\\right)=e^{i\\frac{\\theta}{2}\\sigma_{k}}$ with $k=x,y,z$.\n",
    "\n",
    "The strategy will be the following: the total quantum circuit will be a concatenation of $U$ gates that feed the circuit with the data and some parameters to be optimized, i.e.\n",
    "$$ U_{feed}\\left(\\vec{\\theta}_{1},\\cdots,\\vec{\\theta}_{L};x\\right) = U\\left(\\vec{\\theta}_{L},x\\right)U\\left(\\vec{\\theta}_{L-1},x\\right)\\cdots U\\left(\\vec{\\theta}_{1},x\\right). $$\n",
    "We need to stablish the number of _layers_ $L$ of our circuit and we will have to find the optimal values of the $3L$ parameters. We expect that the larger the number of layers, the more sophisticated will be the encoding and the higher the accuracy of the function."
   ]
  },
  {
   "cell_type": "code",
   "execution_count": 49,
   "metadata": {},
   "outputs": [],
   "source": [
    "def qcircuit(x, layers, param):\n",
    "    qc = tq.QCircuit()\n",
    "    p = 0 # all parameters are stored in a single list\n",
    "    for l in range(layers): # add layers to the circuit\n",
    "        qc += tq.gates.Ry(param[p],0) + tq.gates.Rz(x*param[p+1]+param[p+2],0) # feed the troll!\n",
    "        p = p + 3\n",
    "    return qc"
   ]
  },
  {
   "cell_type": "markdown",
   "metadata": {},
   "source": [
    "## Learning the function\n",
    "\n",
    "Once we have the data encoded into the quantum circuit (a.k.a. _feature map_), we have to design a cost function that will allow us to optimize the circuit parameters.\n",
    "\n",
    "Since we are dealing with only one qubit, a simple approach is to measure it in the computational basis and depending on the expectation value of $Z$ operator, we compare it with the value of the target function to learn. This function has to be rescaled between -1 and 1 accordingly. Thus, we construct the cost function by taking a set of data training points $\\left(x_{1},\\cdots,x_{M}\\right)$, running out $U_feed$ circuit with each of them and computing the expectation value of $Z$ with the resultant state:\n",
    "$$\\mathcal{L}oss\\left(\\vec{\\theta}_{1},\\cdots,\\vec{\\theta}_{L}\\right)=\\sum_{i=1}^{M}\\left(|\\langle 0|U_{feed}^{\\dagger}(x_{i})ZU_{feed}(x_{i})|0\\rangle|^2 - f(x_{i})\\right)^2, $$\n",
    "were I ommited the $\\theta$ dependency in $U_{feed}$."
   ]
  },
  {
   "cell_type": "code",
   "execution_count": 50,
   "metadata": {},
   "outputs": [],
   "source": [
    "# Function\n",
    "def f(x):\n",
    "    func = np.sin(10*x)/(10*x)\n",
    "    return func\n",
    "\n",
    "# Cost function\n",
    "def loss(xval,layers,param):\n",
    "    obj = 0\n",
    "    for i in range(len(xval)):\n",
    "        qc = qcircuit(xval[i],layers, param)\n",
    "        expval = tq.ExpectationValue(qc, H=tq.paulis.Z(0))\n",
    "        obj += (expval-f(xval[i]))**2\n",
    "    return obj/len(xval)"
   ]
  },
  {
   "cell_type": "markdown",
   "metadata": {},
   "source": [
    "We are ready for the circuit optimization! To compare how the accuracy changes with the number of layers, we will optimize for up to `laymax` layers. We have also to create the training data set (in this example, we will take random points between -1 and 1)"
   ]
  },
  {
   "cell_type": "code",
   "execution_count": 51,
   "metadata": {},
   "outputs": [
    {
     "name": "stdout",
     "output_type": "stream",
     "text": [
      "1  layers\n",
      "Loss function =  0.07102613126521413\n",
      "2  layers\n",
      "Loss function =  0.03218041825628407\n",
      "3  layers\n",
      "Loss function =  0.001899347558935098\n",
      "4  layers\n",
      "Loss function =  0.0016025018077730907\n"
     ]
    }
   ],
   "source": [
    "training_set = 25 # number of training points\n",
    "laymax = 4\n",
    "\n",
    "# generate the training data\n",
    "xval=[]\n",
    "for i in range(training_set):\n",
    "    rand = random.uniform(-1,1)\n",
    "    xval.append(rand)\n",
    "\n",
    "# Optimization details    \n",
    "grad = '2-point' # numerical gradient (= None: analytical gradient)\n",
    "mthd = 'BFGS' # minimization method\n",
    "mthd_opt = {'eps':1.e-4} # method options (that's the stepsize for the gradients)\n",
    "\n",
    "train_param = [[]]*(laymax+1)\n",
    "for l in range(1,laymax+1):\n",
    "    \n",
    "    # Generate the needed variables\n",
    "    param = [tq.Variable(name='th{}'.format(i)) for i in range(0,3*l)]\n",
    "    # Initialize them at random\n",
    "    param0 = {key : random.uniform(0, 2*np.pi) for key in param}\n",
    "    \n",
    "    # Optimize!\n",
    "    train = tq.minimize(objective=loss(xval,l,param), initial_values = param0, method = mthd, gradient = grad, method_options = mthd_opt, silent=True)\n",
    "  \n",
    "    print(\"{}\".format(l),\" layers\")\n",
    "    print(\"Loss function = \", train.energy)\n",
    "    \n",
    "    train_param[l] = train.angles # saving the parameters "
   ]
  },
  {
   "cell_type": "markdown",
   "metadata": {},
   "source": [
    "## Test and results\n",
    "\n",
    "Once we have the optimized parameters, we can proceed to test the results by running new circuits with other data values."
   ]
  },
  {
   "cell_type": "code",
   "execution_count": 52,
   "metadata": {},
   "outputs": [
    {
     "data": {
      "image/png": "[encoded data removed]",
      "text/plain": [
       "<Figure size 432x288 with 1 Axes>"
      ]
     },
     "metadata": {
      "needs_background": "light"
     },
     "output_type": "display_data"
    }
   ],
   "source": [
    "test_set = 100 # number of test points\n",
    "\n",
    "col = ['red','blue','orange','brown']\n",
    "\n",
    "# generate the test data\n",
    "xtest=[]\n",
    "for i in range(test_set):\n",
    "    rand = random.uniform(-1,1)\n",
    "    xtest.append(rand)   \n",
    "    \n",
    "for l in range(1,laymax+1):\n",
    "    param = [tq.Variable(name='th{}'.format(i)) for i in range(0,3*l)]\n",
    "    ytrain=[]\n",
    "    for i in range(test_set):\n",
    "        \n",
    "        qc = qcircuit(xtest[i], l, param)\n",
    "        expval = tq.ExpectationValue(qc, H=tq.paulis.Z(0))\n",
    "        res_test = tq.simulate(expval,variables=train_param[l])\n",
    "        \n",
    "        ytrain.append(res_test)\n",
    "        \n",
    "    plt.plot(xtest, ytrain, '.', color=col[l-1], label = \"{} layers\".format(l))\n",
    "\n",
    "ytrue=[]\n",
    "xtrue=[]\n",
    "for i in range(1000):\n",
    "    xtrue.append(random.uniform(-1,1))\n",
    "xtrue.sort()\n",
    "for i in range(1000):\n",
    "    ytrue.append(f(xtrue[i]))\n",
    "    \n",
    "plt.plot(xtrue, ytrue, '-', color='black', label = \"exact\") \n",
    "plt.xlabel(\"x\")\n",
    "plt.ylabel(\"f(x)\")\n",
    "plt.legend()\n",
    "\n",
    "plt.show()"
   ]
  },
  {
   "cell_type": "markdown",
   "metadata": {},
   "source": [
    "## Conclusions and some open questions\n",
    "\n",
    "As you can see, one qubit has the capability of learning an arbitrary function. The data re-uploading strategy used (repeating the same encoding multiple times) increase the accuracy as more layers are considered. This result comes from the fact that a qubit can represent Fourier series, which in turn can represent arbitrary continuous functions.\n",
    "\n",
    "- These are the results for only one qubit, what happens if we consider more and entanglement between layers? Do we require more or less parameters to learn the function with a similar accuracy?\n",
    "\n",
    "- We used a particular encoding. Are there encodings that involve less number of parameters without compromising the accuracy?\n",
    "\n",
    "- We only tested a 1d model. What about higher-dimensional functions?\n",
    "\n",
    "**I hope you enjoyed this small tutorial and do not hesitate to contact me with questions or ideas!**"
   ]
  },
  {
   "cell_type": "code",
   "execution_count": null,
   "metadata": {},
   "outputs": [],
   "source": []
  }
 ],
 "metadata": {
  "kernelspec": {
   "display_name": "Python [conda env:tqenv2] *",
   "language": "python",
   "name": "conda-env-tqenv2-py"
  },
  "language_info": {
   "codemirror_mode": {
    "name": "ipython",
    "version": 3
   },
   "file_extension": ".py",
   "mimetype": "text/x-python",
   "name": "python",
   "nbconvert_exporter": "python",
   "pygments_lexer": "ipython3",
   "version": "3.8.5"
  }
 },
 "nbformat": 4,
 "nbformat_minor": 4
}
