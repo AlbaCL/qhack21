{
 "cells": [
  {
   "cell_type": "markdown",
   "metadata": {},
   "source": [
    "# Non-Linear Molecular Meta-VQE <img src=\"img/ML_logo.png\" width=\"20%\" align=\"right\">\n",
    "_______________________________________________________\n",
    "\n",
    "_Authors:_ Alba Cervera-Lierta, Jakob S. Kottmann, Alán Aspuru-Guzik.\n",
    "\n",
    "This notebook presents a demo code illustrate a non-linear molecular meta-VQE as introduced in the article \"The Meta-Variational Quantum Eigensolver (Meta-VQE): Learning energy profiles of parameterized Hamiltonians for quantum simulation\" (http://arxiv.org/abs/2009.13545).\n",
    "\n",
    "We will explicitly illustrate how to construct a non-linear meta-VQE for molecular systems.  \n",
    "In this Notebook we will use the simplest system available, the Hydrogen molecule in a minimal representation.  \n",
    "The molecular coordinates, or the basis-set can however be replaced (as long as there is just a single meta-parameter $R$ in the coordinates), but note that the training will take substantially longer, depending on the system/basis you chose, and a jupyter notebook is probably not the best environment anymore.\n",
    "\n",
    "In order to run the notebook you need to have `tequila` installed.  \n",
    "Just follow the intructions from the [AAG github repository](https://github.com/aspuru-guzik-group/tequila) and let us know if you experience any troubles. Feel also free to check out the `tequila` [tutorials](https://github.com/aspuru-guzik-group/tequila/tree/master/tutorials). For this notebook we recommend [basic usage](https://github.com/aspuru-guzik-group/tequila/blob/master/tutorials/BasicUsage.ipynb) and [basic chemistry](https://github.com/aspuru-guzik-group/tequila/blob/master/tutorials/Chemistry.ipynb).\n",
    "\n",
    "We start by defining our non-linear encoder. As in the paper we will use a set of floating Gaussians to approximate our unknown non-linear function. Each parameter of the VQE is then encoded, depending on the meta variable $R$ (in this example the bond distance of H$_2$; in the paper the intermolecular distance of H$_4$), as\n",
    "$$\n",
    "\\theta\\left(R\\right) = \\sum_n \\alpha_n \\exp\\left( -\\beta_n (\\gamma_n - R)^2\\right) + \\delta.\n",
    "$$\n",
    "\n",
    "In the following cell, we define this encoder as abstract class can produce `tequila` objectives which will be used as parameters for quantum circuits later.\n",
    "\n",
    "The `DummyEncoder` class just gives back the original variable, we will use it to test the meta-VQE later.  \n",
    "In the same way the `evaluate` function will later be used to initialize the $\\theta$ parameters to test the meta-VQE after training.\n",
    "\n",
    "If you have any questions left, feel free to contact us."
   ]
  },
  {
   "cell_type": "code",
   "execution_count": 1,
   "metadata": {},
   "outputs": [],
   "source": [
    "# tested with tq git revision: ab252adc4090465ff47f182de32d69b84d7fc13f\n",
    "import tequila as tq\n",
    "import numpy"
   ]
  },
  {
   "cell_type": "code",
   "execution_count": 2,
   "metadata": {},
   "outputs": [],
   "source": [
    "class DummyEncoder:\n",
    "    \"\"\"\n",
    "    No encoding\n",
    "    \"\"\"\n",
    "    def __call__(self, variable, *args, **kwargs):\n",
    "        return variable\n",
    "        \n",
    "class GaussianEncoder:\n",
    "    \"\"\"\n",
    "    Represent an unknown linear function by n floating Gaussians    \n",
    "    \"\"\"\n",
    "    def __init__(self, n):\n",
    "        self._n = n\n",
    "\n",
    "    def __call__(self, variable, R):\n",
    "        # this allows us to just pass names as parameters\n",
    "        variable = tq.assign_variable(variable)\n",
    "        \n",
    "        # here we create the non-linear encoded parameter\n",
    "        # as described in the paper\n",
    "        # as abstract tequila objective\n",
    "        mapped = tq.Variable((\"delta\", variable))\n",
    "        for n in range(self._n):\n",
    "            a = tq.Variable((\"alpha\", variable, n))\n",
    "            b = tq.Variable((\"beta\", variable, n))\n",
    "            c = tq.Variable((\"gamma\", variable, n))\n",
    "            mapped += a * ((-(b * (c - R) ** 2)).apply(tq.numpy.exp))\n",
    "        return mapped\n",
    "    \n",
    "    def evaluate(self, variable, R, trained_variables):\n",
    "        # evaluates a specficic variale at point R\n",
    "        # according to alpha*exp(-beta*(gamma - variable)**2) + delta\n",
    "        # needs the trained variables which are (\"alpha\", variable, n)\n",
    "        # and similar for the other meta parameters\n",
    "        result = 0.0\n",
    "        for n in range(self._n):\n",
    "            a = trained_variables[(\"alpha\", variable, n)]\n",
    "            b = trained_variables[(\"beta\", variable, n)]\n",
    "            c = trained_variables[(\"gamma\", variable, n)]\n",
    "            d = trained_variables[(\"delta\", variable)]\n",
    "            result += a*numpy.exp(-b*(c-R)**2) + d\n",
    "        return result"
   ]
  },
  {
   "cell_type": "markdown",
   "metadata": {},
   "source": [
    "## The VQE Ansatz\n",
    "\n",
    "Now its time to define the ansatz for our molecular VQE.  \n",
    "As in the paper, we will use the [UpCCGSD](https://pubs.acs.org/doi/10.1021/acs.jctc.8b01004) ansatz.\n",
    "\n",
    "The quantum circuit for this ansatz has the form \n",
    "$$\n",
    "U(\\boldsymbol{\\theta}) = \\left(\\prod_k e^{-i\\frac{\\theta_k}{2} G_k}\\right) U_\\text{ref} \n",
    "$$\n",
    "where the generators $G_k$ are qubit encoded products of fermionic creation and anihialtion operators; In this case, single excitations and pair-restricted double excitations of the form\n",
    "$$\n",
    "G_{pq} = i(a_p^\\dagger a_q - a^\\dagger_q a_p)\n",
    "$$\n",
    "and\n",
    "$$\n",
    "G_{pqrs} = i(a_p^\\dagger a_q a_r^\\dagger a_s - h.c.).\n",
    "$$\n",
    "The pair-restriction in the doubles requires the spin orbitals $p,q$ and $r,s$ to have the same spatial part. This is enforced in the code block below by iterating over spatial indices and generating $p,q$ and $r,s$ from them (`tequila` will enumerate spin-up with even and spin-down with off numbers).\n",
    "\n",
    "The qubit encoded generators are sums of tensor-products of Pauli matrices. Their explicit form depends on the qubit encoding chosen below (the default here is `jordan_wigner`). If you want to know the explicit form of some generators, just construct them as illustrated below, and then print them out. Note that the qubit encoding is set over the `transformation` key when the molecule object is created (see cells further below).\n",
    "\n",
    "The $U_\\text{ref}$ part of the circuit creates the Hartree-Fock reference. The explicit form also depends on the chosen qubit encoding and the `tequila` molecule object handles the correct initialization. In our specfic H$_2$\\STO-3G example below in `jordan_wigner` representation, the $U_\\text{ref}$ circuit consists of two $X$ gates on qubits 0 and 1 (the spin-up and spin-down encoded occupied HF orbital).\n",
    "\n",
    "Note that for the Hydrogen system we can neglect the singles for point-group symmetry reasons, and for the same reasons will only end up with one pair-ecitation for the doubles anyway.  \n",
    "The code-block below will however generate the ansatz independent of the molecular that is passed to it.  \n",
    "Note that the encoder is also passed to the function, so in principle you can also use other encoders as the ones defined above; They just need to have a call operator defined which takes the name of the variable to encode and the meta paramerer $R$."
   ]
  },
  {
   "cell_type": "code",
   "execution_count": 3,
   "metadata": {},
   "outputs": [],
   "source": [
    "def encoded_upccgsd(molecule, encoder, R, layers=1, include_singles=True):\n",
    "    U = molecule.prepare_reference()\n",
    "    for layer in range(layers):\n",
    "        for i in range(molecule.n_orbitals):\n",
    "            for a in range(i+1,molecule.n_orbitals):\n",
    "                # First the pair-restricted doubles\n",
    "                # create the encoded angle objective\n",
    "                angle = encoder(\"D_{}_{}_{}\".format(layer, i, a), R)\n",
    "                G = molecule.make_excitation_generator(indices=[(2*i,2*a),(2*i+1,2*a+1)])\n",
    "                U += tq.gates.Trotterized(generators=[G], angles=[angle], steps=1)\n",
    "                if not include_singles:\n",
    "                    continue\n",
    "                # now the same for the singles; we will use the same parameter\n",
    "                # for spin-up and spin-down singles to enforce singlet to enforce singlet symmetry\n",
    "                angle = encoder(\"S_{}_{}_{}\".format(layer, i, a), R)\n",
    "                G1 = molecule.make_excitation_generator(indices=[(2*i,2*a)])\n",
    "                G2 = molecule.make_excitation_generator(indices=[(2*i+1,2*a+1)])\n",
    "                U += tq.gates.Trotterized(generators=[G1,G2], angles=[angle,angle], steps=1)\n",
    "    return U"
   ]
  },
  {
   "cell_type": "markdown",
   "metadata": {},
   "source": [
    "## Construction and Training of the meta-VQE  \n",
    "\n",
    "Now we will construct our meta-VQE objective by summing up expectationvalues with meta parameters defined by a set of training points.  \n",
    "\n",
    "After the `tequila` objective is created we minimize it with the `BFGS` optimizer of the `scipy` package.  \n",
    "If you want to try another optimizer, see the tequila [tutorials](https://github.com/aspuru-guzik-group/tequila/blob/master/tutorials/Optimizer_Tutorial.ipynb) or type `tq.show_available_optimizers()` to see which optimizers are available on your system."
   ]
  },
  {
   "cell_type": "code",
   "execution_count": 4,
   "metadata": {},
   "outputs": [
    {
     "name": "stdout",
     "output_type": "stream",
     "text": [
      "initial values are:\n",
      " {('alpha', D_0_0_1, 0): 0.0, ('delta', D_0_0_1): 0.0, ('gamma', D_0_0_1, 0): 1.0, ('beta', D_0_0_1, 0): 1.0}\n",
      "Optimizer: <class 'tequila.optimizers.optimizer_scipy.OptimizerSciPy'> \n",
      "backend         : qulacs\n",
      "device          : None\n",
      "samples         : None\n",
      "save_history    : True\n",
      "noise           : None\n",
      "\n",
      "Method          : BFGS\n",
      "Objective       : 5 expectationvalues\n",
      "grad instr      : 2-point\n",
      "gradient        : scipy numerical 2-point\n",
      "hessian         : scipy numerical None\n",
      "\n",
      "active variables : 4\n",
      "\n",
      "Optimization terminated successfully.\n",
      "         Current function value: -1.010502\n",
      "         Iterations: 13\n",
      "         Function evaluations: 110\n",
      "         Gradient evaluations: 22\n",
      "Finished Training of Meta VQE\n",
      "optimized meta-variables are:\n",
      " ('alpha', D_0_0_1, 0) : -1.3507766463040127\n",
      "('delta', D_0_0_1) : 1.5022768577876158\n",
      "('gamma', D_0_0_1, 0) : 0.6887929726422215\n",
      "('beta', D_0_0_1, 0) : 0.8901106480850393\n",
      "\n"
     ]
    }
   ],
   "source": [
    "# define the encoder\n",
    "encoder = GaussianEncoder(n=1)\n",
    "\n",
    "# define details on the VQE ansatz\n",
    "layers = 1\n",
    "include_singles = False\n",
    "transformation = \"jordan_wigner\"\n",
    "geometry = \"H 0.0 0.0 0.0\\nH 0.0 0.0 {R}\" # gan also give path to an xyz file\n",
    "basis_set = \"sto-3g\"\n",
    "\n",
    "# define the training points\n",
    "training_points = [0.5, 0.7, 1.5, 3.0, 5.0]\n",
    "\n",
    "# define the test points\n",
    "start = 0.3\n",
    "end = 7.0\n",
    "steps = 25\n",
    "test_points = [start + step/steps*(end-start) for step in range(steps)]\n",
    "\n",
    "# Details on the used optimizer:\n",
    "optimizer_arguments = {}\n",
    "# see tq.show_available_optimizers() for other options\n",
    "optimizer_arguments[\"method\"] = \"bfgs\"\n",
    "# increase to see more output in the optimization\n",
    "optimizer_arguments[\"print_level\"] = 1\n",
    "optimizer_arguments[\"gradient\"] = \"2-point\"\n",
    "# eps for scipy < 1.5, and finite_diff_rel_step for scipy > 1.5\n",
    "optimizer_arguments[\"method_options\"] = {\"finite_diff_rel_step\":1.e-5, \"eps\":1.e-5, \"gtol\":1.e-5}\n",
    "\n",
    "\n",
    "#construct the tequila objective by accumulating expectation values of training points\n",
    "objective = 0.0\n",
    "for R in training_points:\n",
    "    molecule = tq.chemistry.Molecule(geometry=geometry.format(R=R), basis_set=basis_set, transformation=transformation)\n",
    "    H = molecule.make_hamiltonian()\n",
    "    U = encoded_upccgsd(molecule, encoder, R, layers, include_singles)\n",
    "    \n",
    "    E = tq.ExpectationValue(H=H, U=U)\n",
    "    objective += E\n",
    "\n",
    "objective = 1.0/len(training_points)*objective\n",
    "    \n",
    "# initialize in a way that the encoded angles start with zero\n",
    "# initialize beta and gamma as 1.0, since they are width and shift of the Gaussians\n",
    "initial_values = {k:(1.0 if \"beta\" in k.name[0] or \"gamma\" in k.name[0] else 0.0) for k in objective.extract_variables()}\n",
    "\n",
    "# if we have more than one floating Gaussian, we should not initialize the shifts (gamma) to the same values\n",
    "# otherwise the optimizer can get confused\n",
    "if encoder._n > 1:\n",
    "    initial_values = {k:(numpy.random.uniform(training_points[0], training_points[-1], 1)[0] if \"gamma\" in k.name[0] else initial_values[k]) for k in objective.extract_variables()}\n",
    "\n",
    "print(\"initial values are:\\n\", initial_values)\n",
    "    \n",
    "# minimize the objective formed from the training points\n",
    "trained = tq.minimize(objective=objective, initial_values=initial_values, **optimizer_arguments)\n",
    "\n",
    "print(\"Finished Training of Meta VQE\")\n",
    "print(\"optimized meta-variables are:\\n\", trained.variables)\n",
    "\n"
   ]
  },
  {
   "cell_type": "markdown",
   "metadata": {},
   "source": [
    "## Testing the performance of the meta-VQE\n",
    "\n",
    "Here we gonna test the performance of the meta-VQE by computing the expectation values of different points with the parameters of the quantum circuit initialized by the trained meta-VQE. For this we will need the `evaluate` function of the encoder. Furthermore we will compute the `fci` energy of each test point, and optimize the individual points with a standard VQE initialized with the meta-VQE values (opt-meta-VQE).  \n",
    "See the paper for further details."
   ]
  },
  {
   "cell_type": "code",
   "execution_count": 5,
   "metadata": {},
   "outputs": [
    {
     "name": "stdout",
     "output_type": "stream",
     "text": [
      "processing test point +0.3000\n",
      "processing test point +0.5680\n",
      "processing test point +0.8360\n",
      "processing test point +1.1040\n",
      "processing test point +1.3720\n",
      "processing test point +1.6400\n",
      "processing test point +1.9080\n",
      "processing test point +2.1760\n",
      "processing test point +2.4440\n",
      "processing test point +2.7120\n",
      "processing test point +2.9800\n",
      "processing test point +3.2480\n",
      "processing test point +3.5160\n",
      "processing test point +3.7840\n",
      "processing test point +4.0520\n",
      "processing test point +4.3200\n",
      "processing test point +4.5880\n",
      "processing test point +4.8560\n",
      "processing test point +5.1240\n",
      "processing test point +5.3920\n",
      "processing test point +5.6600\n",
      "processing test point +5.9280\n",
      "processing test point +6.1960\n",
      "processing test point +6.4640\n",
      "processing test point +6.7320\n"
     ]
    }
   ],
   "source": [
    "fci = {}\n",
    "meta = {}\n",
    "meta_angles = {}\n",
    "meta_opt = {}\n",
    "vqe = {}\n",
    "# we are using this to be able to use the same codeblocks\n",
    "dummy = DummyEncoder()\n",
    "for R in test_points:\n",
    "    print(\"processing test point {:+2.4f}\".format(R))\n",
    "    molecule = tq.chemistry.Molecule(geometry=geometry.format(R=R), basis_set=basis_set, transformation=transformation)\n",
    "    H = molecule.make_hamiltonian()\n",
    "    U = encoded_upccgsd(molecule, dummy, R, layers, include_singles)\n",
    "    E = tq.ExpectationValue(H=H, U=U)\n",
    "    \n",
    "    # evaluate regular VQE with meta VQE parameters\n",
    "    values = {k:encoder.evaluate(variable=k, R=R, trained_variables=trained.variables) for k in E.extract_variables()}\n",
    "    energy = tq.simulate(E, variables=values)\n",
    "    meta[R] = energy\n",
    "    meta_angles[R] = values\n",
    "    \n",
    "    # optimize from meta VQE starting point\n",
    "    result = tq.minimize(objective=E, initial_values=values, silent=True, **optimizer_arguments)\n",
    "    meta_opt[R] = result.energy\n",
    "    \n",
    "    # try fci (you will need psi4 for this)\n",
    "    try:\n",
    "        fci[R] = molecule.compute_energy(\"fci\")\n",
    "    except:\n",
    "        if molecule.n_orbitals < 5:\n",
    "            fci[R] = numpy.linalg.eigvalsh(H.to_matrix())[0]\n",
    "        else:\n",
    "            print(\"skipping fci for point \", R)\n"
   ]
  },
  {
   "cell_type": "markdown",
   "metadata": {},
   "source": [
    "The collected data of the test above is plotted here.  \n",
    "Since we only have one parameter in our simple guinny pig system here, we will also plot the quantum circuit's parameter with respect to the meta parameter $R$.  \n",
    "If you have changed the molecule or the basis_set above, you might need to adapt the plot for the parameter in order to see the parameter you are interested in.\n",
    "\n",
    "For our guinny-pig system and the default settings in this notebook you see that the meta-VQE predicts the whole PES accurately with exception of the point at very close distance. The reason can be seen in the plot of the parameter. For this specific system and this specfic VQE ansatz, the ideal parameter will have a sigmoidal dependence on the meta parameter $R$ and the single floating Gaussian is not able to perfectly adapt to it. As explained in the paper: Chosing floating Gaussians was a pragmatic choice since they are fairly good approximators for generalized functions.\n",
    "\n",
    "\n",
    "If you are interested you can try to change the encoder above, to a sigmoidal function, then you will be able to fit this test system almost perfectly. Another way to improve is to increase the number of floating Gaussians. \n",
    "Feel free to play around with it!"
   ]
  },
  {
   "cell_type": "code",
   "execution_count": 6,
   "metadata": {},
   "outputs": [
    {
     "data": {
      "image/png": "[encoded data removed]",
      "text/plain": [
       "<Figure size 432x288 with 1 Axes>"
      ]
     },
     "metadata": {
      "needs_background": "light"
     },
     "output_type": "display_data"
    },
    {
     "data": {
      "image/png": "[encoded data removed]",
      "text/plain": [
       "<Figure size 432x288 with 1 Axes>"
      ]
     },
     "metadata": {
      "needs_background": "light"
     },
     "output_type": "display_data"
    },
    {
     "data": {
      "image/png": "[encoded data removed]",
      "text/plain": [
       "<Figure size 432x288 with 1 Axes>"
      ]
     },
     "metadata": {
      "needs_background": "light"
     },
     "output_type": "display_data"
    }
   ],
   "source": [
    "import matplotlib.pyplot as plt\n",
    "\n",
    "plt.plot(list(meta.keys()), list(meta.values()), label=\"meta-VQE\", marker=\"o\")\n",
    "plt.plot(list(fci.keys()), list(fci.values()), label=\"FCI\", marker=\"x\", markersize=3)\n",
    "plt.legend()\n",
    "plt.show()\n",
    "plt.figure()\n",
    "\n",
    "plt.plot(list(meta_opt.keys()), list(meta_opt.values()), label=\"opt-meta-VQE\", marker=\"o\")\n",
    "plt.plot(list(fci.keys()), list(fci.values()), label=\"FCI\", marker=\"x\", markersize=3)\n",
    "plt.legend()\n",
    "plt.show()\n",
    "plt.figure()\n",
    "\n",
    "# plot specfic angles\n",
    "key = tq.assign_variable(\"D_{}_{}_{}\".format(0, 0, 1))\n",
    "angles = [angles[key] for angles in meta_angles.values()]\n",
    "plt.plot(list(meta_angles.keys()), angles, label=key.name, marker=\"o\")\n",
    "plt.legend()\n",
    "plt.show()"
   ]
  },
  {
   "cell_type": "markdown",
   "metadata": {},
   "source": [
    "## The example from the Paper:\n",
    "In the paper we used the rectangular H$_4$ system with STO-3G as basis_set.  \n",
    "Below we give the structural data for this system."
   ]
  },
  {
   "cell_type": "code",
   "execution_count": 7,
   "metadata": {},
   "outputs": [],
   "source": [
    "geomstring = \"H 0.0 0.0 0.0\\nH 0.0 0.0 1.23\\nH {R} 0.0 0.0\\nH {R} 0.0 1.23\"\n",
    "include_singles=True\n",
    "training_points = [0.5, 1.0, 1.5, 2.0, 2.5]"
   ]
  }
 ],
 "metadata": {
  "kernelspec": {
   "display_name": "Python [conda env:tqenv2] *",
   "language": "python",
   "name": "conda-env-tqenv2-py"
  },
  "language_info": {
   "codemirror_mode": {
    "name": "ipython",
    "version": 3
   },
   "file_extension": ".py",
   "mimetype": "text/x-python",
   "name": "python",
   "nbconvert_exporter": "python",
   "pygments_lexer": "ipython3",
   "version": "3.8.5"
  }
 },
 "nbformat": 4,
 "nbformat_minor": 2
}
